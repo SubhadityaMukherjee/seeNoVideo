{
 "cells": [
  {
   "cell_type": "markdown",
   "id": "vocal-southeast",
   "metadata": {},
   "source": [
    "# Code"
   ]
  },
  {
   "cell_type": "code",
   "execution_count": 1,
   "id": "native-facility",
   "metadata": {
    "execution": {
     "iopub.execute_input": "2021-06-10T07:47:48.295746Z",
     "iopub.status.busy": "2021-06-10T07:47:48.295565Z",
     "iopub.status.idle": "2021-06-10T07:47:48.303061Z",
     "shell.execute_reply": "2021-06-10T07:47:48.302510Z",
     "shell.execute_reply.started": "2021-06-10T07:47:48.295699Z"
    }
   },
   "outputs": [],
   "source": [
    "import re\n",
    "from pathlib import Path\n",
    "import subprocess\n",
    "from tqdm import tqdm"
   ]
  },
  {
   "cell_type": "code",
   "execution_count": 574,
   "id": "vanilla-turner",
   "metadata": {
    "execution": {
     "iopub.execute_input": "2021-06-10T08:56:32.184276Z",
     "iopub.status.busy": "2021-06-10T08:56:32.183761Z",
     "iopub.status.idle": "2021-06-10T08:56:32.189820Z",
     "shell.execute_reply": "2021-06-10T08:56:32.189327Z",
     "shell.execute_reply.started": "2021-06-10T08:56:32.184214Z"
    }
   },
   "outputs": [],
   "source": [
    "def listify(o):\n",
    "    \"\"\"\n",
    "    Convert to list\n",
    "    \"\"\"\n",
    "    if o is None:\n",
    "        return []\n",
    "    if isinstance(o, list):\n",
    "        return o\n",
    "    if isinstance(o, str):\n",
    "        return [o]\n",
    "    return [o]\n"
   ]
  },
  {
   "cell_type": "code",
   "execution_count": 739,
   "id": "brown-lafayette",
   "metadata": {
    "execution": {
     "iopub.execute_input": "2021-06-10T09:09:31.961193Z",
     "iopub.status.busy": "2021-06-10T09:09:31.960714Z",
     "iopub.status.idle": "2021-06-10T09:09:31.966251Z",
     "shell.execute_reply": "2021-06-10T09:09:31.965852Z",
     "shell.execute_reply.started": "2021-06-10T09:09:31.961136Z"
    }
   },
   "outputs": [],
   "source": [
    "def compose(x, funcs, *args, order_key=\"_order\", **kwargs):\n",
    "    \"\"\"\n",
    "    Chain functions\n",
    "    \"\"\"\n",
    "    key = lambda o: getattr(o, order_key, 0)\n",
    "    for f in sorted(listify(funcs), key=key):\n",
    "        x = f(x, **kwargs)\n",
    "    return x\n"
   ]
  },
  {
   "cell_type": "code",
   "execution_count": 805,
   "id": "grave-wrong",
   "metadata": {
    "execution": {
     "iopub.execute_input": "2021-06-10T09:12:13.218613Z",
     "iopub.status.busy": "2021-06-10T09:12:13.218230Z",
     "iopub.status.idle": "2021-06-10T09:12:13.224425Z",
     "shell.execute_reply": "2021-06-10T09:12:13.223978Z",
     "shell.execute_reply.started": "2021-06-10T09:12:13.218568Z"
    }
   },
   "outputs": [],
   "source": [
    "def replacers(x, p1, p2 = \"\"): return x.replace(p1, p2).strip()\n",
    "def space_remover(x): return replacers(x, \" \").strip()\n",
    "def nl_remover(x): return replacers(x, \"\\n\").strip()\n",
    "def curly_split(x): return re.findall(r\"\\{(.*?)\\}\", x, re.MULTILINE | re.DOTALL)\n",
    "def between_curlies(x): return re.findall(r\"\\}(.*?)\\{\", x, re.MULTILINE | re.DOTALL)\n",
    "def comma_split(x): return [y.split(\",\") for y in x]\n",
    "def single_to_dict(x):\n",
    "    tmp_dict = {}\n",
    "    for i in x:\n",
    "        if len(i) ==0:\n",
    "            break\n",
    "        split_string = i.split(\":\")\n",
    "        tmp_dict[split_string[0]] = split_string[1]\n",
    "    return tmp_dict\n",
    "def multiple_to_dict(x): return [single_to_dict(y) for y in x]\n",
    "def preprocess_input(x): return compose(x, [space_remover, nl_remover, curly_split, comma_split, multiple_to_dict])\n",
    "def preprocess_merges(x): return compose(x, [space_remover, nl_remover, between_curlies])"
   ]
  },
  {
   "cell_type": "code",
   "execution_count": 884,
   "id": "operating-particular",
   "metadata": {
    "execution": {
     "iopub.execute_input": "2021-06-10T09:35:25.137622Z",
     "iopub.status.busy": "2021-06-10T09:35:25.137485Z",
     "iopub.status.idle": "2021-06-10T09:35:25.141130Z",
     "shell.execute_reply": "2021-06-10T09:35:25.140572Z",
     "shell.execute_reply.started": "2021-06-10T09:35:25.137607Z"
    }
   },
   "outputs": [],
   "source": [
    "def exec_ffmpeg_com(vid_path, tmp_path, comm):\n",
    "    part_tmp_path = Path(tmp_path.with_name(\"temp_\"+tmp_path.name))\n",
    "    try:\n",
    "        if not Path.exists(tmp_path):\n",
    "            print(\"not\",vid_path,tmp_path)\n",
    "            subprocess.getoutput(f\"yes|ffmpeg -i {str(vid_path)} {comm} {str(tmp_path)}\")\n",
    "            vid_path = tmp_path\n",
    "            return tmp_path\n",
    "\n",
    "        else:\n",
    "            print(\"is\",tmp_path,part_tmp_path)\n",
    "\n",
    "            subprocess.getoutput(f\"yes|ffmpeg -i {str(tmp_path)} {comm} {str(part_tmp_path)}\")\n",
    "    #         Path.unlink(tmp_path)\n",
    "            try:\n",
    "                Path.rename(part_tmp_path, tmp_path)\n",
    "            except FileNotFoundError:\n",
    "                pass\n",
    "            return tmp_path\n",
    "    except:\n",
    "        return tmp_path"
   ]
  },
  {
   "cell_type": "code",
   "execution_count": 885,
   "id": "tired-contents",
   "metadata": {
    "execution": {
     "iopub.execute_input": "2021-06-10T09:35:25.763395Z",
     "iopub.status.busy": "2021-06-10T09:35:25.762884Z",
     "iopub.status.idle": "2021-06-10T09:35:25.771070Z",
     "shell.execute_reply": "2021-06-10T09:35:25.769289Z",
     "shell.execute_reply.started": "2021-06-10T09:35:25.763334Z"
    }
   },
   "outputs": [],
   "source": [
    "def remove_audio(val, vid_path, tmp_path,): \n",
    "    if int(val) ==0: ex = exec_ffmpeg_com(vid_path, tmp_path, \"-c copy -an\")\n",
    "    else: ex= tmp_path\n",
    "    return ex"
   ]
  },
  {
   "cell_type": "code",
   "execution_count": 886,
   "id": "relative-access",
   "metadata": {
    "execution": {
     "iopub.execute_input": "2021-06-10T09:35:25.985170Z",
     "iopub.status.busy": "2021-06-10T09:35:25.985034Z",
     "iopub.status.idle": "2021-06-10T09:35:25.988183Z",
     "shell.execute_reply": "2021-06-10T09:35:25.987627Z",
     "shell.execute_reply.started": "2021-06-10T09:35:25.985155Z"
    }
   },
   "outputs": [],
   "source": [
    "def rescale_video(val, vid_path, tmp_path,): \n",
    "    if len(val)>2: ex = exec_ffmpeg_com(vid_path, tmp_path, f'-vf scale={\":\".join(val.split(\";\"))}')\n",
    "    else: ex= tmp_path\n",
    "    return ex"
   ]
  },
  {
   "cell_type": "code",
   "execution_count": 887,
   "id": "particular-foster",
   "metadata": {
    "execution": {
     "iopub.execute_input": "2021-06-10T09:35:26.178441Z",
     "iopub.status.busy": "2021-06-10T09:35:26.177930Z",
     "iopub.status.idle": "2021-06-10T09:35:26.189181Z",
     "shell.execute_reply": "2021-06-10T09:35:26.187135Z",
     "shell.execute_reply.started": "2021-06-10T09:35:26.178380Z"
    }
   },
   "outputs": [],
   "source": [
    "def trim_video(val, vid_path, tmp_path, ): \n",
    "    _order = 1\n",
    "    val_p = val.split(\";\")\n",
    "    val_p = [x.replace(\"-\",\":\") for x in val_p]\n",
    "    if len(val_p)==2: \n",
    "        print(f'-vcodec copy -acodec copy -ss {val_p[0]} -to {val_p[1]}')\n",
    "        ex = exec_ffmpeg_com(vid_path, tmp_path, f'-vcodec copy -acodec copy -ss {val_p[0]} -to {val_p[1]}')\n",
    "    else: ex= tmp_path\n",
    "    return ex"
   ]
  },
  {
   "cell_type": "code",
   "execution_count": 927,
   "id": "preceding-scholar",
   "metadata": {
    "execution": {
     "iopub.execute_input": "2021-06-10T09:41:53.763209Z",
     "iopub.status.busy": "2021-06-10T09:41:53.763053Z",
     "iopub.status.idle": "2021-06-10T09:41:53.766325Z",
     "shell.execute_reply": "2021-06-10T09:41:53.765772Z",
     "shell.execute_reply.started": "2021-06-10T09:41:53.763190Z"
    }
   },
   "outputs": [],
   "source": [
    "def speed_video(val, vid_path, tmp_path): \n",
    "    val = int(val)\n",
    "    print(val)\n",
    "    if val != 0: ex = exec_ffmpeg_com(vid_path, tmp_path, f\"-filter:v 'setpts=PTS/{val}'\")\n",
    "    else: ex= tmp_path\n",
    "    return ex"
   ]
  },
  {
   "cell_type": "code",
   "execution_count": 928,
   "id": "partial-services",
   "metadata": {
    "execution": {
     "iopub.execute_input": "2021-06-10T09:41:53.975050Z",
     "iopub.status.busy": "2021-06-10T09:41:53.974541Z",
     "iopub.status.idle": "2021-06-10T09:41:53.980521Z",
     "shell.execute_reply": "2021-06-10T09:41:53.980077Z",
     "shell.execute_reply.started": "2021-06-10T09:41:53.974989Z"
    }
   },
   "outputs": [],
   "source": [
    "def speed_audio(val, vid_path, tmp_path): \n",
    "    val = float(val)\n",
    "    if val>=2.0:val=2.0\n",
    "    elif val <= 0: val = .5\n",
    "    if val != 0: ex = exec_ffmpeg_com(vid_path, tmp_path, f\"-filter:a 'atempo={val}' -vn\")\n",
    "    else: ex= tmp_path\n",
    "    return ex"
   ]
  },
  {
   "cell_type": "code",
   "execution_count": 929,
   "id": "preliminary-career",
   "metadata": {
    "execution": {
     "iopub.execute_input": "2021-06-10T09:41:54.151198Z",
     "iopub.status.busy": "2021-06-10T09:41:54.150691Z",
     "iopub.status.idle": "2021-06-10T09:41:54.159081Z",
     "shell.execute_reply": "2021-06-10T09:41:54.156830Z",
     "shell.execute_reply.started": "2021-06-10T09:41:54.151137Z"
    }
   },
   "outputs": [],
   "source": [
    "dic_procs = {\n",
    "    \"A\": remove_audio,\n",
    "    \"resize\": rescale_video,\n",
    "    \"+\": concat_video,\n",
    "    \"trim\":trim_video,\n",
    "    \"speedA\":speed_audio,\n",
    "    \"speedV\":speed_video,\n",
    "}"
   ]
  },
  {
   "cell_type": "code",
   "execution_count": 930,
   "id": "talented-console",
   "metadata": {
    "execution": {
     "iopub.execute_input": "2021-06-10T09:41:54.295381Z",
     "iopub.status.busy": "2021-06-10T09:41:54.295172Z",
     "iopub.status.idle": "2021-06-10T09:41:54.299234Z",
     "shell.execute_reply": "2021-06-10T09:41:54.298613Z",
     "shell.execute_reply.started": "2021-06-10T09:41:54.295357Z"
    }
   },
   "outputs": [],
   "source": [
    "def process_video(dic, fpath):\n",
    "    name = dic[\"name\"]\n",
    "    vid_path = fpath/name\n",
    "    tmp_path = fpath/f\"tmp_{name}\"\n",
    "    \n",
    "    for key in dic.keys():\n",
    "        if key != \"name\":\n",
    "            print(f\"Executing: {dic_procs[key]}\")\n",
    "            out = dic_procs[key](dic[key], vid_path, tmp_path)\n",
    "#             print(out)\n",
    "#             vid_path = str(out)\n",
    "    return tmp_path"
   ]
  },
  {
   "cell_type": "code",
   "execution_count": 931,
   "id": "proof-dining",
   "metadata": {
    "execution": {
     "iopub.execute_input": "2021-06-10T09:41:54.447024Z",
     "iopub.status.busy": "2021-06-10T09:41:54.446502Z",
     "iopub.status.idle": "2021-06-10T09:41:54.455903Z",
     "shell.execute_reply": "2021-06-10T09:41:54.454425Z",
     "shell.execute_reply.started": "2021-06-10T09:41:54.446963Z"
    }
   },
   "outputs": [],
   "source": [
    "def concat_video(lis,fpath,merge_name):\n",
    "    f1,f2 = fpath/lis[0], fpath/lis[1]\n",
    "    with open(fpath/\"tmp_vid_list.txt\",\"w+\") as f:\n",
    "        f.write(f\"file '{str(f1)}'\\nfile '{str(f2)}'\")\n",
    "    \n",
    "    ou1 = subprocess.getoutput(f\"yes|ffmpeg -f concat -safe 0 -i {fpath/'tmp_vid_list.txt'} -c copy {fpath/merge_name}\")\n",
    "    \n",
    "    return fpath/merge_name"
   ]
  },
  {
   "cell_type": "code",
   "execution_count": 932,
   "id": "composed-mercy",
   "metadata": {
    "execution": {
     "iopub.execute_input": "2021-06-10T09:41:54.582955Z",
     "iopub.status.busy": "2021-06-10T09:41:54.582783Z",
     "iopub.status.idle": "2021-06-10T09:41:54.586708Z",
     "shell.execute_reply": "2021-06-10T09:41:54.586272Z",
     "shell.execute_reply.started": "2021-06-10T09:41:54.582935Z"
    }
   },
   "outputs": [],
   "source": [
    "def run_process(string, fpath, merge_name = \"final_output.mp4\"):\n",
    "    pi = preprocess_input(string)\n",
    "    try:\n",
    "        pm = preprocess_merges(string)\n",
    "    except IndexError:\n",
    "        pass\n",
    "    executed_vid_list = []\n",
    "    # run process for all files\n",
    "    for i,vid in tqdm(enumerate(pi)):\n",
    "        out = process_video(vid, fpath)\n",
    "#         print(out)\n",
    "        executed_vid_list.append(out)\n",
    "#     print(executed_vid_list)\n",
    "    lex = len(executed_vid_list)\n",
    "    if lex>=2:\n",
    "        if lex%2 == 0: assert len(pm)== (lex/2)\n",
    "        else: assert len(pm)== (lex%2+1)\n",
    "        concat_video(executed_vid_list, fpath, merge_name)\n",
    "    \n",
    "    "
   ]
  },
  {
   "cell_type": "code",
   "execution_count": 933,
   "id": "hungry-store",
   "metadata": {
    "execution": {
     "iopub.execute_input": "2021-06-10T09:41:54.755054Z",
     "iopub.status.busy": "2021-06-10T09:41:54.754541Z",
     "iopub.status.idle": "2021-06-10T09:41:54.761663Z",
     "shell.execute_reply": "2021-06-10T09:41:54.760165Z",
     "shell.execute_reply.started": "2021-06-10T09:41:54.754993Z"
    }
   },
   "outputs": [],
   "source": [
    "def remove_only_if_there(fpath): \n",
    "    if Path.exists(fpath): Path.unlink(fpath)"
   ]
  },
  {
   "cell_type": "code",
   "execution_count": 956,
   "id": "running-rotation",
   "metadata": {
    "execution": {
     "iopub.execute_input": "2021-06-10T09:56:03.445780Z",
     "iopub.status.busy": "2021-06-10T09:56:03.445492Z",
     "iopub.status.idle": "2021-06-10T09:56:03.450383Z",
     "shell.execute_reply": "2021-06-10T09:56:03.449535Z",
     "shell.execute_reply.started": "2021-06-10T09:56:03.445747Z"
    }
   },
   "outputs": [],
   "source": [
    "def clean_up_fuly(fpath):\n",
    "    for i in [x for x in main_path.iterdir()]: \n",
    "        if \"tmp_\" in i.name:\n",
    "            remove_only_if_there(i)\n",
    "    remove_only_if_there(fpath/\"tmp_vid_list.txt\")\n",
    "    remove_only_if_there(fpath/\"final_output.mp4\")"
   ]
  },
  {
   "cell_type": "code",
   "execution_count": 957,
   "id": "advance-custom",
   "metadata": {
    "execution": {
     "iopub.execute_input": "2021-06-10T09:56:03.715724Z",
     "iopub.status.busy": "2021-06-10T09:56:03.715573Z",
     "iopub.status.idle": "2021-06-10T09:56:03.718049Z",
     "shell.execute_reply": "2021-06-10T09:56:03.717620Z",
     "shell.execute_reply.started": "2021-06-10T09:56:03.715708Z"
    }
   },
   "outputs": [],
   "source": [
    "def clean_up(fpath):\n",
    "    remove_only_if_there(fpath/\"tmp_vid_list.txt\")"
   ]
  },
  {
   "cell_type": "markdown",
   "id": "creative-palmer",
   "metadata": {},
   "source": [
    "# Test"
   ]
  },
  {
   "cell_type": "code",
   "execution_count": 958,
   "id": "proprietary-amendment",
   "metadata": {
    "execution": {
     "iopub.execute_input": "2021-06-10T09:56:04.025974Z",
     "iopub.status.busy": "2021-06-10T09:56:04.025470Z",
     "iopub.status.idle": "2021-06-10T09:56:04.036090Z",
     "shell.execute_reply": "2021-06-10T09:56:04.034287Z",
     "shell.execute_reply.started": "2021-06-10T09:56:04.025915Z"
    }
   },
   "outputs": [
    {
     "data": {
      "text/plain": [
       "PosixPath('.')"
      ]
     },
     "execution_count": 958,
     "metadata": {},
     "output_type": "execute_result"
    }
   ],
   "source": [
    "main_path = Path(\".\"); main_path"
   ]
  },
  {
   "cell_type": "code",
   "execution_count": 966,
   "id": "ancient-workstation",
   "metadata": {
    "execution": {
     "iopub.execute_input": "2021-06-10T09:56:52.538109Z",
     "iopub.status.busy": "2021-06-10T09:56:52.537573Z",
     "iopub.status.idle": "2021-06-10T09:56:52.545575Z",
     "shell.execute_reply": "2021-06-10T09:56:52.543754Z",
     "shell.execute_reply.started": "2021-06-10T09:56:52.538043Z"
    }
   },
   "outputs": [],
   "source": [
    "test_string = '''{\n",
    "name:venus.mp4,\n",
    "A:0,\n",
    "}+{\n",
    "name:grassTutorialNew.mp4,\n",
    "A:0,\n",
    "resize:128;128,\n",
    "}\n",
    "'''"
   ]
  },
  {
   "cell_type": "code",
   "execution_count": 960,
   "id": "tracked-pension",
   "metadata": {
    "execution": {
     "iopub.execute_input": "2021-06-10T09:56:04.780776Z",
     "iopub.status.busy": "2021-06-10T09:56:04.780646Z",
     "iopub.status.idle": "2021-06-10T09:56:04.783055Z",
     "shell.execute_reply": "2021-06-10T09:56:04.782411Z",
     "shell.execute_reply.started": "2021-06-10T09:56:04.780762Z"
    }
   },
   "outputs": [],
   "source": [
    "test_string = '''{\n",
    "name:movie.mp4,\n",
    "trim:00-01-00;00-15-10,\n",
    "A:0,\n",
    "speedV: 2,\n",
    "}\n",
    "'''"
   ]
  },
  {
   "cell_type": "code",
   "execution_count": 967,
   "id": "demanding-shade",
   "metadata": {
    "execution": {
     "iopub.execute_input": "2021-06-10T09:56:53.757554Z",
     "iopub.status.busy": "2021-06-10T09:56:53.756829Z",
     "iopub.status.idle": "2021-06-10T09:56:53.774365Z",
     "shell.execute_reply": "2021-06-10T09:56:53.772313Z",
     "shell.execute_reply.started": "2021-06-10T09:56:53.757461Z"
    }
   },
   "outputs": [],
   "source": [
    "clean_up_fuly(main_path)\n",
    "# clean_up(main_path)"
   ]
  },
  {
   "cell_type": "code",
   "execution_count": 968,
   "id": "supported-repair",
   "metadata": {
    "execution": {
     "iopub.execute_input": "2021-06-10T09:56:54.670430Z",
     "iopub.status.busy": "2021-06-10T09:56:54.670219Z",
     "iopub.status.idle": "2021-06-10T09:57:00.111635Z",
     "shell.execute_reply": "2021-06-10T09:57:00.111163Z",
     "shell.execute_reply.started": "2021-06-10T09:56:54.670410Z"
    }
   },
   "outputs": [
    {
     "name": "stderr",
     "output_type": "stream",
     "text": [
      "0it [00:00, ?it/s]"
     ]
    },
    {
     "name": "stdout",
     "output_type": "stream",
     "text": [
      "Executing: <function remove_audio at 0x7f77f7673ca0>\n",
      "not venus.mp4 tmp_venus.mp4\n",
      "Executing: <function remove_audio at 0x7f77f7673ca0>\n",
      "not grassTutorialNew.mp4 tmp_grassTutorialNew.mp4\n",
      "Executing: <function rescale_video at 0x7f77f77bb430>\n",
      "is tmp_grassTutorialNew.mp4 temp_tmp_grassTutorialNew.mp4\n"
     ]
    },
    {
     "name": "stderr",
     "output_type": "stream",
     "text": [
      "2it [00:05,  2.68s/it]"
     ]
    },
    {
     "name": "stdout",
     "output_type": "stream",
     "text": [
      "[PosixPath('tmp_venus.mp4'), PosixPath('tmp_grassTutorialNew.mp4')]\n"
     ]
    },
    {
     "name": "stderr",
     "output_type": "stream",
     "text": [
      "\n"
     ]
    }
   ],
   "source": [
    "run_process(test_string, main_path, merge_name=\"final_output.mp4\")"
   ]
  },
  {
   "cell_type": "code",
   "execution_count": 940,
   "id": "renewable-rebound",
   "metadata": {
    "execution": {
     "iopub.execute_input": "2021-06-10T09:41:56.992414Z",
     "iopub.status.busy": "2021-06-10T09:41:56.991871Z",
     "iopub.status.idle": "2021-06-10T09:41:56.999580Z",
     "shell.execute_reply": "2021-06-10T09:41:56.997368Z",
     "shell.execute_reply.started": "2021-06-10T09:41:56.992345Z"
    }
   },
   "outputs": [],
   "source": [
    "# trim did not work\n",
    "# try to concatenate outputs in the end\n",
    "# look for text? \\\n",
    "# filters etc"
   ]
  },
  {
   "cell_type": "code",
   "execution_count": null,
   "id": "returning-batman",
   "metadata": {},
   "outputs": [],
   "source": []
  },
  {
   "cell_type": "code",
   "execution_count": null,
   "id": "comfortable-wagon",
   "metadata": {},
   "outputs": [],
   "source": []
  },
  {
   "cell_type": "code",
   "execution_count": null,
   "id": "integrated-console",
   "metadata": {},
   "outputs": [],
   "source": []
  },
  {
   "cell_type": "code",
   "execution_count": null,
   "id": "protected-trail",
   "metadata": {},
   "outputs": [],
   "source": []
  },
  {
   "cell_type": "code",
   "execution_count": null,
   "id": "heated-edgar",
   "metadata": {},
   "outputs": [],
   "source": []
  },
  {
   "cell_type": "code",
   "execution_count": null,
   "id": "banned-columbus",
   "metadata": {},
   "outputs": [],
   "source": []
  },
  {
   "cell_type": "code",
   "execution_count": null,
   "id": "ready-presence",
   "metadata": {},
   "outputs": [],
   "source": []
  },
  {
   "cell_type": "code",
   "execution_count": null,
   "id": "rural-roulette",
   "metadata": {},
   "outputs": [],
   "source": []
  },
  {
   "cell_type": "code",
   "execution_count": null,
   "id": "charged-giant",
   "metadata": {},
   "outputs": [],
   "source": []
  }
 ],
 "metadata": {
  "kernelspec": {
   "display_name": "Python 3",
   "language": "python",
   "name": "python3"
  },
  "language_info": {
   "codemirror_mode": {
    "name": "ipython",
    "version": 3
   },
   "file_extension": ".py",
   "mimetype": "text/x-python",
   "name": "python",
   "nbconvert_exporter": "python",
   "pygments_lexer": "ipython3",
   "version": "3.9.5"
  }
 },
 "nbformat": 4,
 "nbformat_minor": 5
}
