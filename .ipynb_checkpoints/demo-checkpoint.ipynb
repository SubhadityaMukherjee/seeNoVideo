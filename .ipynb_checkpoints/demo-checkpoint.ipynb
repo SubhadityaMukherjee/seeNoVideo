{
 "cells": [
  {
   "cell_type": "markdown",
   "id": "dominican-navigator",
   "metadata": {},
   "source": [
    "# FAQ"
   ]
  },
  {
   "cell_type": "markdown",
   "id": "neither-hayes",
   "metadata": {},
   "source": [
    "- Since this is a notebook, I am using the %%python - cell magic\n",
    "- In a normal script just run it as it is and replace the %%python - with python\n",
    "- eg: python runner.py -f testVideos -t \"{name:movie.mp4,trim:00-01-00;00-5-10,A:song.mp3,}\";"
   ]
  },
  {
   "cell_type": "code",
   "execution_count": 3,
   "id": "ranking-rehabilitation",
   "metadata": {
    "execution": {
     "iopub.execute_input": "2021-06-10T14:18:04.024747Z",
     "iopub.status.busy": "2021-06-10T14:18:04.024598Z",
     "iopub.status.idle": "2021-06-10T14:18:05.816015Z",
     "shell.execute_reply": "2021-06-10T14:18:05.814358Z",
     "shell.execute_reply.started": "2021-06-10T14:18:04.024728Z"
    }
   },
   "outputs": [
    {
     "name": "stdout",
     "output_type": "stream",
     "text": [
      "Defaulting to user installation because normal site-packages is not writeable\n",
      "Requirement already satisfied: seenovideos in /home/eragon/.local/lib/python3.9/site-packages (1.2.2)\n"
     ]
    }
   ],
   "source": [
    "!pip install seenovideos"
   ]
  },
  {
   "cell_type": "code",
   "execution_count": 4,
   "id": "wanted-ordinary",
   "metadata": {
    "execution": {
     "iopub.execute_input": "2021-06-10T14:18:06.919536Z",
     "iopub.status.busy": "2021-06-10T14:18:06.918932Z",
     "iopub.status.idle": "2021-06-10T14:18:07.223671Z",
     "shell.execute_reply": "2021-06-10T14:18:07.223332Z",
     "shell.execute_reply.started": "2021-06-10T14:18:06.919469Z"
    }
   },
   "outputs": [
    {
     "name": "stdout",
     "output_type": "stream",
     "text": [
      "Namespace(d=True, t='{name:venus.mp4}+{name:grassTutorialNew.mp4}', f='testVideos/', o=None)\n",
      "testVideos\n",
      "Executing: <function namer at 0x7f4f9244f160>\n",
      "testVideos/tmp_venus.mp4\n",
      "Executing: <function namer at 0x7f4f9244f160>\n",
      "testVideos/tmp_grassTutorialNew.mp4\n",
      "Namespace(d=True, t='{name:venus.mp4}+{name:grassTutorialNew.mp4}', f='testVideos/', o=None)\n",
      "testVideos\n",
      "Executing: <function namer at 0x7f4f9244f160>\n",
      "testVideos/tmp_venus.mp4\n",
      "Executing: <function namer at 0x7f4f9244f160>\n",
      "testVideos/tmp_grassTutorialNew.mp4\n"
     ]
    },
    {
     "name": "stderr",
     "output_type": "stream",
     "text": [
      "100%|████████████████████████████████████████████████| 2/2 [00:00<00:00, 216.40it/s]\n",
      "100%|████████████████████████████████████████████████| 2/2 [00:00<00:00, 220.49it/s]\n"
     ]
    }
   ],
   "source": [
    "%%python - -f testVideos/ -d -t \"{name:venus.mp4}+{name:grassTutorialNew.mp4}\"\n",
    "import seenovideo"
   ]
  },
  {
   "cell_type": "markdown",
   "id": "hispanic-circumstances",
   "metadata": {},
   "source": [
    "# Demo : Merge two files with different settings\n",
    "- Take file 1 -> Remove the audio\n",
    "- Take file 2 -> remove audio, resize the video\n",
    "- Merge them both"
   ]
  },
  {
   "cell_type": "code",
   "execution_count": 5,
   "id": "british-section",
   "metadata": {
    "execution": {
     "iopub.execute_input": "2021-06-10T14:18:08.353138Z",
     "iopub.status.busy": "2021-06-10T14:18:08.352585Z",
     "iopub.status.idle": "2021-06-10T14:18:19.131495Z",
     "shell.execute_reply": "2021-06-10T14:18:19.130966Z",
     "shell.execute_reply.started": "2021-06-10T14:18:08.353068Z"
    }
   },
   "outputs": [
    {
     "name": "stdout",
     "output_type": "stream",
     "text": [
      "Namespace(d=True, t='{name:venus.mp4,A:0,}+{name:grassTutorialNew.mp4,A:0,resize:128;128,}', f='testVideos/', o=None)\n",
      "testVideos\n",
      "Executing: <function namer at 0x7fcbd9334160>\n",
      "Executing: <function remove_audio at 0x7fcbd93343a0>\n",
      "testVideos/tmp_venus.mp4\n",
      "Executing: <function namer at 0x7fcbd9334160>\n",
      "Executing: <function remove_audio at 0x7fcbd93343a0>\n",
      "Executing: <function rescale_video at 0x7fcbd9334310>\n",
      "testVideos/tmp_grassTutorialNew.mp4\n",
      "Namespace(d=True, t='{name:venus.mp4,A:0,}+{name:grassTutorialNew.mp4,A:0,resize:128;128,}', f='testVideos/', o=None)\n",
      "testVideos\n",
      "Executing: <function namer at 0x7fcbd9334160>\n",
      "Executing: <function remove_audio at 0x7fcbd93343a0>\n",
      "testVideos/tmp_venus.mp4\n",
      "Executing: <function namer at 0x7fcbd9334160>\n",
      "Executing: <function remove_audio at 0x7fcbd93343a0>\n",
      "Executing: <function rescale_video at 0x7fcbd9334310>\n",
      "testVideos/tmp_grassTutorialNew.mp4\n"
     ]
    },
    {
     "name": "stderr",
     "output_type": "stream",
     "text": [
      "100%|█████████████████████████████████████████████████| 2/2 [00:05<00:00,  2.63s/it]\n",
      "100%|█████████████████████████████████████████████████| 2/2 [00:05<00:00,  2.65s/it]\n"
     ]
    }
   ],
   "source": [
    "%%python - -f testVideos/ -d -t \"{name:venus.mp4,A:0,}+{name:grassTutorialNew.mp4,A:0,resize:128;128,}\"\n",
    "import seenovideo"
   ]
  },
  {
   "cell_type": "code",
   "execution_count": null,
   "id": "honey-anaheim",
   "metadata": {},
   "outputs": [],
   "source": []
  },
  {
   "cell_type": "markdown",
   "id": "appreciated-friend",
   "metadata": {},
   "source": [
    "# Demo : direct text\n",
    "- Take a file \n",
    "- Cut it it from 1 min to 5:10 min\n",
    "- Replace the audio with a song"
   ]
  },
  {
   "cell_type": "code",
   "execution_count": 6,
   "id": "saving-formula",
   "metadata": {
    "execution": {
     "iopub.execute_input": "2021-06-10T14:18:31.510635Z",
     "iopub.status.busy": "2021-06-10T14:18:31.510477Z",
     "iopub.status.idle": "2021-06-10T14:18:37.808715Z",
     "shell.execute_reply": "2021-06-10T14:18:37.808192Z",
     "shell.execute_reply.started": "2021-06-10T14:18:31.510618Z"
    }
   },
   "outputs": [
    {
     "name": "stdout",
     "output_type": "stream",
     "text": [
      "Namespace(d=True, t='{name:movie.mp4,trim:00-01-00;00-5-10,A:song.mp3}', f='testVideos/', o=None)\n",
      "testVideos\n",
      "Executing: <function namer at 0x7f5220922160>\n",
      "Executing: <function trim_video at 0x7f5220922280>\n",
      "Executing: <function remove_audio at 0x7f52209223a0>\n",
      "Replacing audio with testVideos/song.mp3\n",
      "testVideos/tmp_movie.mp4\n",
      "Namespace(d=True, t='{name:movie.mp4,trim:00-01-00;00-5-10,A:song.mp3}', f='testVideos/', o=None)\n",
      "testVideos\n",
      "Executing: <function namer at 0x7f5220922160>\n",
      "Executing: <function trim_video at 0x7f5220922280>\n",
      "Executing: <function remove_audio at 0x7f52209223a0>\n",
      "Replacing audio with testVideos/song.mp3\n",
      "testVideos/tmp_movie.mp4\n"
     ]
    },
    {
     "name": "stderr",
     "output_type": "stream",
     "text": [
      "100%|█████████████████████████████████████████████████| 1/1 [00:03<00:00,  3.17s/it]\n",
      "100%|█████████████████████████████████████████████████| 1/1 [00:03<00:00,  3.06s/it]\n"
     ]
    }
   ],
   "source": [
    "%%python - -f testVideos/ -d -t \"{name:movie.mp4,trim:00-01-00;00-5-10,A:song.mp3}\"\n",
    "import seenovideo"
   ]
  },
  {
   "cell_type": "markdown",
   "id": "educated-dream",
   "metadata": {},
   "source": [
    "# Demo : Simple video stabilization\n",
    "- Take a file \n",
    "- Cut it it from 1 min to 5:10 min\n",
    "- Replace the audio with a song"
   ]
  },
  {
   "cell_type": "code",
   "execution_count": null,
   "id": "collectible-richards",
   "metadata": {
    "execution": {
     "iopub.execute_input": "2021-06-10T14:18:39.505145Z",
     "iopub.status.busy": "2021-06-10T14:18:39.504962Z"
    }
   },
   "outputs": [],
   "source": [
    "%%python - -f testVideos/ -d -t \"{name:shaky.mp4,stabilize:1,A:song.mp3}\"\n",
    "import seenovideo"
   ]
  },
  {
   "cell_type": "markdown",
   "id": "studied-implementation",
   "metadata": {},
   "source": [
    "# Demo : from file\n",
    "- Take a file \n",
    "- Cut it it from 1 min to 5:10 min\n",
    "- Replace the audio with a song"
   ]
  },
  {
   "cell_type": "code",
   "execution_count": null,
   "id": "virtual-cause",
   "metadata": {},
   "outputs": [],
   "source": [
    "%%python - -f testVideos/ -t \"movDemo.txt\"\n",
    "import seenovideo"
   ]
  },
  {
   "cell_type": "code",
   "execution_count": null,
   "id": "golden-recording",
   "metadata": {},
   "outputs": [],
   "source": []
  }
 ],
 "metadata": {
  "kernelspec": {
   "display_name": "Python 3",
   "language": "python",
   "name": "python3"
  },
  "language_info": {
   "codemirror_mode": {
    "name": "ipython",
    "version": 3
   },
   "file_extension": ".py",
   "mimetype": "text/x-python",
   "name": "python",
   "nbconvert_exporter": "python",
   "pygments_lexer": "ipython3",
   "version": "3.9.5"
  }
 },
 "nbformat": 4,
 "nbformat_minor": 5
}
