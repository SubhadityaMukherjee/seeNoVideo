{
 "cells": [
  {
   "cell_type": "markdown",
   "id": "changing-negative",
   "metadata": {},
   "source": [
    "# FAQ"
   ]
  },
  {
   "cell_type": "markdown",
   "id": "fewer-authentication",
   "metadata": {},
   "source": [
    "- Since this is a notebook, I am using the %%python - cell magic\n",
    "- In a normal script just run it as it is and replace the %%python - with python\n",
    "- eg: python runner.py -f testVideos -t \"{name:movie.mp4,trim:00-01-00;00-5-10,A:song.mp3,}\";"
   ]
  },
  {
   "cell_type": "code",
   "execution_count": null,
   "id": "permanent-divorce",
   "metadata": {},
   "outputs": [],
   "source": []
  },
  {
   "cell_type": "markdown",
   "id": "iraqi-startup",
   "metadata": {},
   "source": [
    "# Demo : Merge two files with different settings\n",
    "- Take file 1 -> Remove the audio\n",
    "- Take file 2 -> remove audio, resize the video\n",
    "- Merge them both"
   ]
  },
  {
   "cell_type": "code",
   "execution_count": 205,
   "id": "technological-favorite",
   "metadata": {
    "execution": {
     "iopub.execute_input": "2021-06-10T11:41:06.823994Z",
     "iopub.status.busy": "2021-06-10T11:41:06.823501Z",
     "iopub.status.idle": "2021-06-10T11:41:12.092338Z",
     "shell.execute_reply": "2021-06-10T11:41:12.091723Z",
     "shell.execute_reply.started": "2021-06-10T11:41:06.823933Z"
    }
   },
   "outputs": [
    {
     "name": "stdout",
     "output_type": "stream",
     "text": [
      "Namespace(d=True, t='{name:venus.mp4,A:0,}+{name:grassTutorialNew.mp4,A:0,resize:128;128,}', f='testVideos/', o=None)\n",
      "testVideos\n",
      "Executing: <function remove_audio at 0x7fc14ea98d30>\n",
      "testVideos/tmp_venus.mp4\n",
      "Executing: <function remove_audio at 0x7fc14ea98d30>\n",
      "Executing: <function rescale_video at 0x7fc14ea98dc0>\n",
      "testVideos/tmp_grassTutorialNew.mp4\n"
     ]
    },
    {
     "name": "stderr",
     "output_type": "stream",
     "text": [
      "100%|█████████████████████████████████████████████████| 2/2 [00:05<00:00,  2.56s/it]\n"
     ]
    }
   ],
   "source": [
    "%%python - -f testVideos/ -d -t \"{name:venus.mp4,A:0,}+{name:grassTutorialNew.mp4,A:0,resize:128;128,}\"\n",
    "import runner"
   ]
  },
  {
   "cell_type": "code",
   "execution_count": null,
   "id": "higher-experience",
   "metadata": {},
   "outputs": [],
   "source": []
  },
  {
   "cell_type": "markdown",
   "id": "medical-manchester",
   "metadata": {},
   "source": [
    "# Demo : direct text\n",
    "- Take a file \n",
    "- Cut it it from 1 min to 5:10 min\n",
    "- Replace the audio with a song"
   ]
  },
  {
   "cell_type": "code",
   "execution_count": 199,
   "id": "parallel-dominican",
   "metadata": {
    "execution": {
     "iopub.execute_input": "2021-06-10T11:38:07.582826Z",
     "iopub.status.busy": "2021-06-10T11:38:07.582555Z",
     "iopub.status.idle": "2021-06-10T11:38:10.241133Z",
     "shell.execute_reply": "2021-06-10T11:38:10.240771Z",
     "shell.execute_reply.started": "2021-06-10T11:38:07.582794Z"
    }
   },
   "outputs": [
    {
     "name": "stdout",
     "output_type": "stream",
     "text": [
      "Namespace(d=True, t='{name:movie.mp4,trim:00-01-00;00-5-10,A:song.mp3}', f='testVideos/', o=None)\n",
      "testVideos\n",
      "Executing: <function trim_video at 0x7f14f230ee50>\n",
      "Executing: <function remove_audio at 0x7f14f230ed30>\n",
      "Replacing audio with testVideos/song.mp3\n",
      "testVideos/tmp_movie.mp4\n"
     ]
    },
    {
     "name": "stderr",
     "output_type": "stream",
     "text": [
      "100%|█████████████████████████████████████████████████| 1/1 [00:02<00:00,  2.59s/it]\n"
     ]
    }
   ],
   "source": [
    "%%python - -f testVideos/ -d -t \"{name:movie.mp4,trim:00-01-00;00-5-10,A:song.mp3}\"\n",
    "import runner"
   ]
  },
  {
   "cell_type": "markdown",
   "id": "handed-expression",
   "metadata": {},
   "source": [
    "# Demo : Simple video stabilization\n",
    "- Take a file \n",
    "- Cut it it from 1 min to 5:10 min\n",
    "- Replace the audio with a song"
   ]
  },
  {
   "cell_type": "code",
   "execution_count": null,
   "id": "regulation-eleven",
   "metadata": {
    "execution": {
     "iopub.execute_input": "2021-06-10T12:10:30.174483Z",
     "iopub.status.busy": "2021-06-10T12:10:30.174315Z"
    }
   },
   "outputs": [],
   "source": [
    "%%python - -f testVideos/ -d -t \"{name:shaky.mp4,stabilize:1,A:song.mp3}\"\n",
    "import runner"
   ]
  },
  {
   "cell_type": "markdown",
   "id": "tight-nudist",
   "metadata": {},
   "source": [
    "# Demo : from file\n",
    "- Take a file \n",
    "- Cut it it from 1 min to 5:10 min\n",
    "- Replace the audio with a song"
   ]
  },
  {
   "cell_type": "code",
   "execution_count": 203,
   "id": "norwegian-standing",
   "metadata": {
    "execution": {
     "iopub.execute_input": "2021-06-10T11:38:58.696586Z",
     "iopub.status.busy": "2021-06-10T11:38:58.696452Z",
     "iopub.status.idle": "2021-06-10T11:39:01.304058Z",
     "shell.execute_reply": "2021-06-10T11:39:01.303493Z",
     "shell.execute_reply.started": "2021-06-10T11:38:58.696572Z"
    }
   },
   "outputs": [
    {
     "name": "stdout",
     "output_type": "stream",
     "text": [
      "Namespace(d=False, t='movDemo.txt', f='testVideos/', o=None)\n",
      "testVideos\n",
      "Executing: <function trim_video at 0x7fdfc18cde50>\n",
      "Executing: <function remove_audio at 0x7fdfc18cdd30>\n",
      "Replacing audio with testVideos/song.mp3\n",
      "testVideos/tmp_movie.mp4\n"
     ]
    },
    {
     "name": "stderr",
     "output_type": "stream",
     "text": [
      "100%|█████████████████████████████████████████████████| 1/1 [00:02<00:00,  2.55s/it]\n"
     ]
    }
   ],
   "source": [
    "%%python - -f testVideos/ -t \"movDemo.txt\"\n",
    "import runner"
   ]
  },
  {
   "cell_type": "code",
   "execution_count": null,
   "id": "necessary-buyer",
   "metadata": {},
   "outputs": [],
   "source": []
  }
 ],
 "metadata": {
  "kernelspec": {
   "display_name": "Python 3",
   "language": "python",
   "name": "python3"
  },
  "language_info": {
   "codemirror_mode": {
    "name": "ipython",
    "version": 3
   },
   "file_extension": ".py",
   "mimetype": "text/x-python",
   "name": "python",
   "nbconvert_exporter": "python",
   "pygments_lexer": "ipython3",
   "version": "3.9.5"
  }
 },
 "nbformat": 4,
 "nbformat_minor": 5
}
