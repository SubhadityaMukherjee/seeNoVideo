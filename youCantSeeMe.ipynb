{
 "cells": [
  {
   "cell_type": "markdown",
   "id": "complicated-hazard",
   "metadata": {},
   "source": [
    "# Code"
   ]
  },
  {
   "cell_type": "code",
   "execution_count": 400,
   "id": "optional-cancer",
   "metadata": {
    "execution": {
     "iopub.execute_input": "2021-06-09T20:03:39.599704Z",
     "iopub.status.busy": "2021-06-09T20:03:39.599561Z",
     "iopub.status.idle": "2021-06-09T20:03:39.609010Z",
     "shell.execute_reply": "2021-06-09T20:03:39.608667Z",
     "shell.execute_reply.started": "2021-06-09T20:03:39.599688Z"
    }
   },
   "outputs": [],
   "source": [
    "import re\n",
    "from pathlib import Path\n",
    "import subprocess\n",
    "from tqdm import tqdm"
   ]
  },
  {
   "cell_type": "code",
   "execution_count": 320,
   "id": "tracked-thong",
   "metadata": {
    "execution": {
     "iopub.execute_input": "2021-06-09T19:46:53.427485Z",
     "iopub.status.busy": "2021-06-09T19:46:53.427341Z",
     "iopub.status.idle": "2021-06-09T19:46:53.430316Z",
     "shell.execute_reply": "2021-06-09T19:46:53.429797Z",
     "shell.execute_reply.started": "2021-06-09T19:46:53.427468Z"
    }
   },
   "outputs": [],
   "source": [
    "def listify(o):\n",
    "    \"\"\"\n",
    "    Convert to list\n",
    "    \"\"\"\n",
    "    if o is None:\n",
    "        return []\n",
    "    if isinstance(o, list):\n",
    "        return o\n",
    "    if isinstance(o, str):\n",
    "        return [o]\n",
    "    return [o]\n"
   ]
  },
  {
   "cell_type": "code",
   "execution_count": 321,
   "id": "cellular-spring",
   "metadata": {
    "execution": {
     "iopub.execute_input": "2021-06-09T19:46:53.687108Z",
     "iopub.status.busy": "2021-06-09T19:46:53.686596Z",
     "iopub.status.idle": "2021-06-09T19:46:53.696046Z",
     "shell.execute_reply": "2021-06-09T19:46:53.694416Z",
     "shell.execute_reply.started": "2021-06-09T19:46:53.687046Z"
    }
   },
   "outputs": [],
   "source": [
    "def compose(x, funcs, *args, order_key=\"_order\", **kwargs):\n",
    "    \"\"\"\n",
    "    Chain functions\n",
    "    \"\"\"\n",
    "    key = lambda o: getattr(o, order_key, 0)\n",
    "    for f in sorted(listify(funcs), key=key):\n",
    "        x = f(x, **kwargs)\n",
    "    return x\n"
   ]
  },
  {
   "cell_type": "code",
   "execution_count": 369,
   "id": "coordinated-bedroom",
   "metadata": {
    "execution": {
     "iopub.execute_input": "2021-06-09T19:51:58.006913Z",
     "iopub.status.busy": "2021-06-09T19:51:58.006395Z",
     "iopub.status.idle": "2021-06-09T19:51:58.015209Z",
     "shell.execute_reply": "2021-06-09T19:51:58.013472Z",
     "shell.execute_reply.started": "2021-06-09T19:51:58.006851Z"
    }
   },
   "outputs": [],
   "source": [
    "def replacers(x, p1, p2 = \"\"): return x.replace(p1, p2)\n",
    "def space_remover(x): return replacers(x, \" \")\n",
    "def nl_remover(x): return replacers(x, \"\\n\")\n",
    "def curly_split(x): return re.findall(r\"\\{(.*?)\\}\", x, re.MULTILINE | re.DOTALL)\n",
    "def between_curlies(x): return re.findall(r\"\\}(.*?)\\{\", x, re.MULTILINE | re.DOTALL)\n",
    "def comma_split(x): return [y.split(\",\") for y in x]\n",
    "def single_to_dict(x):\n",
    "    tmp_dict = {}\n",
    "    for i in x:\n",
    "        split_string = i.split(\":\")\n",
    "        tmp_dict[split_string[0]] = split_string[1]\n",
    "    return tmp_dict\n",
    "def multiple_to_dict(x): return [single_to_dict(y) for y in x]\n",
    "def preprocess_input(x): return compose(x, [space_remover, nl_remover, curly_split, comma_split, multiple_to_dict])\n",
    "def preprocess_merges(x): return compose(x, [space_remover, nl_remover, between_curlies])"
   ]
  },
  {
   "cell_type": "code",
   "execution_count": 417,
   "id": "organizational-discipline",
   "metadata": {
    "execution": {
     "iopub.execute_input": "2021-06-09T20:11:12.928510Z",
     "iopub.status.busy": "2021-06-09T20:11:12.928008Z",
     "iopub.status.idle": "2021-06-09T20:11:12.933298Z",
     "shell.execute_reply": "2021-06-09T20:11:12.932873Z",
     "shell.execute_reply.started": "2021-06-09T20:11:12.928449Z"
    }
   },
   "outputs": [],
   "source": [
    "def exec_ffmpeg_com(vid_path, tmp_path, comm):\n",
    "    ou1 = subprocess.getoutput(f\"yes|ffmpeg -i {str(vid_path)} {comm} {str(tmp_path)}\")\n",
    "    return ou1"
   ]
  },
  {
   "cell_type": "code",
   "execution_count": 418,
   "id": "equal-negotiation",
   "metadata": {
    "execution": {
     "iopub.execute_input": "2021-06-09T20:11:15.236232Z",
     "iopub.status.busy": "2021-06-09T20:11:15.236067Z",
     "iopub.status.idle": "2021-06-09T20:11:15.238466Z",
     "shell.execute_reply": "2021-06-09T20:11:15.238134Z",
     "shell.execute_reply.started": "2021-06-09T20:11:15.236205Z"
    }
   },
   "outputs": [],
   "source": [
    "def remove_audio(val, vid_path, tmp_path,): \n",
    "    if val ==0: exec_ffmpeg_com(vid_path, tmp_path, \"-c copy -an\")"
   ]
  },
  {
   "cell_type": "code",
   "execution_count": 421,
   "id": "improved-nightlife",
   "metadata": {
    "execution": {
     "iopub.execute_input": "2021-06-09T20:16:07.503148Z",
     "iopub.status.busy": "2021-06-09T20:16:07.502986Z",
     "iopub.status.idle": "2021-06-09T20:16:07.505664Z",
     "shell.execute_reply": "2021-06-09T20:16:07.505158Z",
     "shell.execute_reply.started": "2021-06-09T20:16:07.503121Z"
    }
   },
   "outputs": [],
   "source": [
    "def rescale_video(val, vid_path, tmp_path): \n",
    "    if len(val)>2: exec_ffmpeg_com(vid_path, tmp_path, f'-vf scale={\";\".join(val.split(\";\"))}')"
   ]
  },
  {
   "cell_type": "markdown",
   "id": "identical-scott",
   "metadata": {},
   "source": [
    "# Test"
   ]
  },
  {
   "cell_type": "code",
   "execution_count": 422,
   "id": "nasty-madonna",
   "metadata": {
    "execution": {
     "iopub.execute_input": "2021-06-09T20:26:07.601486Z",
     "iopub.status.busy": "2021-06-09T20:26:07.601319Z",
     "iopub.status.idle": "2021-06-09T20:26:07.603762Z",
     "shell.execute_reply": "2021-06-09T20:26:07.603430Z",
     "shell.execute_reply.started": "2021-06-09T20:26:07.601458Z"
    }
   },
   "outputs": [],
   "source": [
    "main_qu = []"
   ]
  },
  {
   "cell_type": "code",
   "execution_count": 423,
   "id": "seeing-cabinet",
   "metadata": {
    "execution": {
     "iopub.execute_input": "2021-06-09T20:26:07.764442Z",
     "iopub.status.busy": "2021-06-09T20:26:07.763925Z",
     "iopub.status.idle": "2021-06-09T20:26:07.775501Z",
     "shell.execute_reply": "2021-06-09T20:26:07.773617Z",
     "shell.execute_reply.started": "2021-06-09T20:26:07.764378Z"
    }
   },
   "outputs": [
    {
     "data": {
      "text/plain": [
       "PosixPath('.')"
      ]
     },
     "execution_count": 423,
     "metadata": {},
     "output_type": "execute_result"
    }
   ],
   "source": [
    "main_path = Path(\".\"); main_path"
   ]
  },
  {
   "cell_type": "code",
   "execution_count": 424,
   "id": "sweet-tomato",
   "metadata": {
    "execution": {
     "iopub.execute_input": "2021-06-09T20:26:07.935871Z",
     "iopub.status.busy": "2021-06-09T20:26:07.935349Z",
     "iopub.status.idle": "2021-06-09T20:26:07.942783Z",
     "shell.execute_reply": "2021-06-09T20:26:07.941179Z",
     "shell.execute_reply.started": "2021-06-09T20:26:07.935809Z"
    }
   },
   "outputs": [],
   "source": [
    "test_string = '''{\n",
    "name:grassTutorialNew.mp4,\n",
    "A:0,\n",
    "resize:128;128\n",
    "}+{name:venus.mp4,\n",
    "A:0,\n",
    "resize:128;128\n",
    "}\n",
    "'''"
   ]
  },
  {
   "cell_type": "code",
   "execution_count": 425,
   "id": "accredited-fight",
   "metadata": {
    "execution": {
     "iopub.execute_input": "2021-06-09T20:26:08.240472Z",
     "iopub.status.busy": "2021-06-09T20:26:08.239953Z",
     "iopub.status.idle": "2021-06-09T20:26:08.248656Z",
     "shell.execute_reply": "2021-06-09T20:26:08.246087Z",
     "shell.execute_reply.started": "2021-06-09T20:26:08.240409Z"
    }
   },
   "outputs": [],
   "source": [
    "dic_procs = {\n",
    "    \"A\": remove_audio,\n",
    "    \"resize\": rescale_video,\n",
    "}"
   ]
  },
  {
   "cell_type": "code",
   "execution_count": 443,
   "id": "signed-arrow",
   "metadata": {
    "execution": {
     "iopub.execute_input": "2021-06-09T20:31:53.945499Z",
     "iopub.status.busy": "2021-06-09T20:31:53.944975Z",
     "iopub.status.idle": "2021-06-09T20:31:53.954421Z",
     "shell.execute_reply": "2021-06-09T20:31:53.953242Z",
     "shell.execute_reply.started": "2021-06-09T20:31:53.945432Z"
    }
   },
   "outputs": [],
   "source": [
    "def process_video(dic, fpath):\n",
    "    name = dic[\"name\"]\n",
    "    vid_path = fpath/name\n",
    "    tmp_path = fpath/f\"tmp_{name}\"\n",
    "    \n",
    "    print(dic.keys())\n",
    "    \n",
    "    proc_list = [dic_procs[key](dic[key], vid_path, tmp_path) for key in dic.keys() if key not in [\"name\"]]\n",
    "    print(proc_list)\n",
    "    \n",
    "    return tmp_path"
   ]
  },
  {
   "cell_type": "code",
   "execution_count": 444,
   "id": "indian-combining",
   "metadata": {
    "execution": {
     "iopub.execute_input": "2021-06-09T20:31:54.175181Z",
     "iopub.status.busy": "2021-06-09T20:31:54.174677Z",
     "iopub.status.idle": "2021-06-09T20:31:54.183920Z",
     "shell.execute_reply": "2021-06-09T20:31:54.181888Z",
     "shell.execute_reply.started": "2021-06-09T20:31:54.175120Z"
    }
   },
   "outputs": [],
   "source": [
    "def run_process(string, fpath):\n",
    "    pi, pm = preprocess_input(string), preprocess_merges(string)\n",
    "    executed_vid_list = []\n",
    "    for i,vid in tqdm(enumerate(pi)):\n",
    "        process_video(vid, fpath)\n",
    "        break\n",
    "#     print(pi, pm, fpath)"
   ]
  },
  {
   "cell_type": "code",
   "execution_count": 445,
   "id": "awful-conspiracy",
   "metadata": {
    "execution": {
     "iopub.execute_input": "2021-06-09T20:31:54.394516Z",
     "iopub.status.busy": "2021-06-09T20:31:54.393998Z",
     "iopub.status.idle": "2021-06-09T20:31:54.464132Z",
     "shell.execute_reply": "2021-06-09T20:31:54.463526Z",
     "shell.execute_reply.started": "2021-06-09T20:31:54.394454Z"
    }
   },
   "outputs": [
    {
     "name": "stderr",
     "output_type": "stream",
     "text": [
      "0it [00:00, ?it/s]"
     ]
    },
    {
     "name": "stdout",
     "output_type": "stream",
     "text": [
      "dict_keys(['name', 'A', 'resize'])\n",
      "[None, None]\n"
     ]
    },
    {
     "name": "stderr",
     "output_type": "stream",
     "text": [
      "\n"
     ]
    }
   ],
   "source": [
    "run_process(test_string, main_path)"
   ]
  },
  {
   "cell_type": "code",
   "execution_count": null,
   "id": "straight-learning",
   "metadata": {},
   "outputs": [],
   "source": []
  },
  {
   "cell_type": "code",
   "execution_count": null,
   "id": "distant-attendance",
   "metadata": {},
   "outputs": [],
   "source": []
  },
  {
   "cell_type": "code",
   "execution_count": null,
   "id": "loved-measure",
   "metadata": {},
   "outputs": [],
   "source": []
  },
  {
   "cell_type": "code",
   "execution_count": null,
   "id": "unexpected-vienna",
   "metadata": {},
   "outputs": [],
   "source": []
  },
  {
   "cell_type": "code",
   "execution_count": null,
   "id": "knowing-craps",
   "metadata": {},
   "outputs": [],
   "source": []
  },
  {
   "cell_type": "code",
   "execution_count": null,
   "id": "mechanical-happening",
   "metadata": {},
   "outputs": [],
   "source": []
  },
  {
   "cell_type": "code",
   "execution_count": null,
   "id": "every-tract",
   "metadata": {},
   "outputs": [],
   "source": []
  },
  {
   "cell_type": "code",
   "execution_count": null,
   "id": "virgin-sigma",
   "metadata": {},
   "outputs": [],
   "source": []
  },
  {
   "cell_type": "code",
   "execution_count": null,
   "id": "delayed-correlation",
   "metadata": {},
   "outputs": [],
   "source": []
  },
  {
   "cell_type": "code",
   "execution_count": null,
   "id": "important-washington",
   "metadata": {},
   "outputs": [],
   "source": []
  }
 ],
 "metadata": {
  "kernelspec": {
   "display_name": "Python 3",
   "language": "python",
   "name": "python3"
  },
  "language_info": {
   "codemirror_mode": {
    "name": "ipython",
    "version": 3
   },
   "file_extension": ".py",
   "mimetype": "text/x-python",
   "name": "python",
   "nbconvert_exporter": "python",
   "pygments_lexer": "ipython3",
   "version": "3.9.5"
  }
 },
 "nbformat": 4,
 "nbformat_minor": 5
}
