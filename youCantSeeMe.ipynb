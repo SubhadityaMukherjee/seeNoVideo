{
 "cells": [
  {
   "cell_type": "markdown",
   "id": "purple-official",
   "metadata": {},
   "source": [
    "# Code"
   ]
  },
  {
   "cell_type": "code",
   "execution_count": 1,
   "id": "adopted-guitar",
   "metadata": {
    "execution": {
     "iopub.execute_input": "2021-06-10T07:47:48.295746Z",
     "iopub.status.busy": "2021-06-10T07:47:48.295565Z",
     "iopub.status.idle": "2021-06-10T07:47:48.303061Z",
     "shell.execute_reply": "2021-06-10T07:47:48.302510Z",
     "shell.execute_reply.started": "2021-06-10T07:47:48.295699Z"
    }
   },
   "outputs": [],
   "source": [
    "import re\n",
    "from pathlib import Path\n",
    "import subprocess\n",
    "from tqdm import tqdm"
   ]
  },
  {
   "cell_type": "code",
   "execution_count": 574,
   "id": "muslim-congo",
   "metadata": {
    "execution": {
     "iopub.execute_input": "2021-06-10T08:56:32.184276Z",
     "iopub.status.busy": "2021-06-10T08:56:32.183761Z",
     "iopub.status.idle": "2021-06-10T08:56:32.189820Z",
     "shell.execute_reply": "2021-06-10T08:56:32.189327Z",
     "shell.execute_reply.started": "2021-06-10T08:56:32.184214Z"
    }
   },
   "outputs": [],
   "source": [
    "def listify(o):\n",
    "    \"\"\"\n",
    "    Convert to list\n",
    "    \"\"\"\n",
    "    if o is None:\n",
    "        return []\n",
    "    if isinstance(o, list):\n",
    "        return o\n",
    "    if isinstance(o, str):\n",
    "        return [o]\n",
    "    return [o]\n"
   ]
  },
  {
   "cell_type": "code",
   "execution_count": 739,
   "id": "postal-blast",
   "metadata": {
    "execution": {
     "iopub.execute_input": "2021-06-10T09:09:31.961193Z",
     "iopub.status.busy": "2021-06-10T09:09:31.960714Z",
     "iopub.status.idle": "2021-06-10T09:09:31.966251Z",
     "shell.execute_reply": "2021-06-10T09:09:31.965852Z",
     "shell.execute_reply.started": "2021-06-10T09:09:31.961136Z"
    }
   },
   "outputs": [],
   "source": [
    "def compose(x, funcs, *args, order_key=\"_order\", **kwargs):\n",
    "    \"\"\"\n",
    "    Chain functions\n",
    "    \"\"\"\n",
    "    key = lambda o: getattr(o, order_key, 0)\n",
    "    for f in sorted(listify(funcs), key=key):\n",
    "        x = f(x, **kwargs)\n",
    "    return x\n"
   ]
  },
  {
   "cell_type": "code",
   "execution_count": 805,
   "id": "express-clarity",
   "metadata": {
    "execution": {
     "iopub.execute_input": "2021-06-10T09:12:13.218613Z",
     "iopub.status.busy": "2021-06-10T09:12:13.218230Z",
     "iopub.status.idle": "2021-06-10T09:12:13.224425Z",
     "shell.execute_reply": "2021-06-10T09:12:13.223978Z",
     "shell.execute_reply.started": "2021-06-10T09:12:13.218568Z"
    }
   },
   "outputs": [],
   "source": [
    "def replacers(x, p1, p2 = \"\"): return x.replace(p1, p2).strip()\n",
    "def space_remover(x): return replacers(x, \" \").strip()\n",
    "def nl_remover(x): return replacers(x, \"\\n\").strip()\n",
    "def curly_split(x): return re.findall(r\"\\{(.*?)\\}\", x, re.MULTILINE | re.DOTALL)\n",
    "def between_curlies(x): return re.findall(r\"\\}(.*?)\\{\", x, re.MULTILINE | re.DOTALL)\n",
    "def comma_split(x): return [y.split(\",\") for y in x]\n",
    "def single_to_dict(x):\n",
    "    tmp_dict = {}\n",
    "    for i in x:\n",
    "        if len(i) ==0:\n",
    "            break\n",
    "        split_string = i.split(\":\")\n",
    "        tmp_dict[split_string[0]] = split_string[1]\n",
    "    return tmp_dict\n",
    "def multiple_to_dict(x): return [single_to_dict(y) for y in x]\n",
    "def preprocess_input(x): return compose(x, [space_remover, nl_remover, curly_split, comma_split, multiple_to_dict])\n",
    "def preprocess_merges(x): return compose(x, [space_remover, nl_remover, between_curlies])"
   ]
  },
  {
   "cell_type": "code",
   "execution_count": 884,
   "id": "personalized-timer",
   "metadata": {
    "execution": {
     "iopub.execute_input": "2021-06-10T09:35:25.137622Z",
     "iopub.status.busy": "2021-06-10T09:35:25.137485Z",
     "iopub.status.idle": "2021-06-10T09:35:25.141130Z",
     "shell.execute_reply": "2021-06-10T09:35:25.140572Z",
     "shell.execute_reply.started": "2021-06-10T09:35:25.137607Z"
    }
   },
   "outputs": [],
   "source": [
    "def exec_ffmpeg_com(vid_path, tmp_path, comm):\n",
    "    part_tmp_path = Path(tmp_path.with_name(\"temp_\"+tmp_path.name))\n",
    "    try:\n",
    "        if not Path.exists(tmp_path):\n",
    "            print(\"not\",vid_path,tmp_path)\n",
    "            subprocess.getoutput(f\"yes|ffmpeg -i {str(vid_path)} {comm} {str(tmp_path)}\")\n",
    "            vid_path = tmp_path\n",
    "            return tmp_path\n",
    "\n",
    "        else:\n",
    "            print(\"is\",tmp_path,part_tmp_path)\n",
    "\n",
    "            subprocess.getoutput(f\"yes|ffmpeg -i {str(tmp_path)} {comm} {str(part_tmp_path)}\")\n",
    "    #         Path.unlink(tmp_path)\n",
    "            try:\n",
    "                Path.rename(part_tmp_path, tmp_path)\n",
    "            except FileNotFoundError:\n",
    "                pass\n",
    "            return tmp_path\n",
    "    except:\n",
    "        return tmp_path"
   ]
  },
  {
   "cell_type": "code",
   "execution_count": 885,
   "id": "fleet-ivory",
   "metadata": {
    "execution": {
     "iopub.execute_input": "2021-06-10T09:35:25.763395Z",
     "iopub.status.busy": "2021-06-10T09:35:25.762884Z",
     "iopub.status.idle": "2021-06-10T09:35:25.771070Z",
     "shell.execute_reply": "2021-06-10T09:35:25.769289Z",
     "shell.execute_reply.started": "2021-06-10T09:35:25.763334Z"
    }
   },
   "outputs": [],
   "source": [
    "def remove_audio(val, vid_path, tmp_path,): \n",
    "    if int(val) ==0: ex = exec_ffmpeg_com(vid_path, tmp_path, \"-c copy -an\")\n",
    "    else: ex= tmp_path\n",
    "    return ex"
   ]
  },
  {
   "cell_type": "code",
   "execution_count": 886,
   "id": "false-curtis",
   "metadata": {
    "execution": {
     "iopub.execute_input": "2021-06-10T09:35:25.985170Z",
     "iopub.status.busy": "2021-06-10T09:35:25.985034Z",
     "iopub.status.idle": "2021-06-10T09:35:25.988183Z",
     "shell.execute_reply": "2021-06-10T09:35:25.987627Z",
     "shell.execute_reply.started": "2021-06-10T09:35:25.985155Z"
    }
   },
   "outputs": [],
   "source": [
    "def rescale_video(val, vid_path, tmp_path,): \n",
    "    if len(val)>2: ex = exec_ffmpeg_com(vid_path, tmp_path, f'-vf scale={\":\".join(val.split(\";\"))}')\n",
    "    else: ex= tmp_path\n",
    "    return ex"
   ]
  },
  {
   "cell_type": "code",
   "execution_count": 887,
   "id": "unknown-street",
   "metadata": {
    "execution": {
     "iopub.execute_input": "2021-06-10T09:35:26.178441Z",
     "iopub.status.busy": "2021-06-10T09:35:26.177930Z",
     "iopub.status.idle": "2021-06-10T09:35:26.189181Z",
     "shell.execute_reply": "2021-06-10T09:35:26.187135Z",
     "shell.execute_reply.started": "2021-06-10T09:35:26.178380Z"
    }
   },
   "outputs": [],
   "source": [
    "def trim_video(val, vid_path, tmp_path, ): \n",
    "    _order = 1\n",
    "    val_p = val.split(\";\")\n",
    "    val_p = [x.replace(\"-\",\":\") for x in val_p]\n",
    "    if len(val_p)==2: \n",
    "        print(f'-vcodec copy -acodec copy -ss {val_p[0]} -to {val_p[1]}')\n",
    "        ex = exec_ffmpeg_com(vid_path, tmp_path, f'-vcodec copy -acodec copy -ss {val_p[0]} -to {val_p[1]}')\n",
    "    else: ex= tmp_path\n",
    "    return ex"
   ]
  },
  {
   "cell_type": "code",
   "execution_count": 927,
   "id": "limiting-particular",
   "metadata": {
    "execution": {
     "iopub.execute_input": "2021-06-10T09:41:53.763209Z",
     "iopub.status.busy": "2021-06-10T09:41:53.763053Z",
     "iopub.status.idle": "2021-06-10T09:41:53.766325Z",
     "shell.execute_reply": "2021-06-10T09:41:53.765772Z",
     "shell.execute_reply.started": "2021-06-10T09:41:53.763190Z"
    }
   },
   "outputs": [],
   "source": [
    "def speed_video(val, vid_path, tmp_path): \n",
    "    val = int(val)\n",
    "    if val != 0: ex = exec_ffmpeg_com(vid_path, tmp_path, f\"-filter:v 'setpts=PTS/{val}'\")\n",
    "    else: ex= tmp_path\n",
    "    return ex"
   ]
  },
  {
   "cell_type": "code",
   "execution_count": 928,
   "id": "immune-stockholm",
   "metadata": {
    "execution": {
     "iopub.execute_input": "2021-06-10T09:41:53.975050Z",
     "iopub.status.busy": "2021-06-10T09:41:53.974541Z",
     "iopub.status.idle": "2021-06-10T09:41:53.980521Z",
     "shell.execute_reply": "2021-06-10T09:41:53.980077Z",
     "shell.execute_reply.started": "2021-06-10T09:41:53.974989Z"
    }
   },
   "outputs": [],
   "source": [
    "def speed_audio(val, vid_path, tmp_path): \n",
    "    val = float(val)\n",
    "    if val>=2.0:val=2.0\n",
    "    elif val <= 0: val = .5\n",
    "    if val != 0: ex = exec_ffmpeg_com(vid_path, tmp_path, f\"-filter:a 'atempo={val}' -vn\")\n",
    "    else: ex= tmp_path\n",
    "    return ex"
   ]
  },
  {
   "cell_type": "code",
   "execution_count": 929,
   "id": "inclusive-boating",
   "metadata": {
    "execution": {
     "iopub.execute_input": "2021-06-10T09:41:54.151198Z",
     "iopub.status.busy": "2021-06-10T09:41:54.150691Z",
     "iopub.status.idle": "2021-06-10T09:41:54.159081Z",
     "shell.execute_reply": "2021-06-10T09:41:54.156830Z",
     "shell.execute_reply.started": "2021-06-10T09:41:54.151137Z"
    }
   },
   "outputs": [],
   "source": [
    "dic_procs = {\n",
    "    \"A\": remove_audio,\n",
    "    \"resize\": rescale_video,\n",
    "    \"+\": concat_video,\n",
    "    \"trim\":trim_video,\n",
    "    \"speedA\":speed_audio,\n",
    "    \"speedV\":speed_video,\n",
    "}"
   ]
  },
  {
   "cell_type": "code",
   "execution_count": 930,
   "id": "aggregate-postage",
   "metadata": {
    "execution": {
     "iopub.execute_input": "2021-06-10T09:41:54.295381Z",
     "iopub.status.busy": "2021-06-10T09:41:54.295172Z",
     "iopub.status.idle": "2021-06-10T09:41:54.299234Z",
     "shell.execute_reply": "2021-06-10T09:41:54.298613Z",
     "shell.execute_reply.started": "2021-06-10T09:41:54.295357Z"
    }
   },
   "outputs": [],
   "source": [
    "def process_video(dic, fpath):\n",
    "    name = dic[\"name\"]\n",
    "    vid_path = fpath/name\n",
    "    tmp_path = fpath/f\"tmp_{name}\"\n",
    "    \n",
    "    for key in dic.keys():\n",
    "        if key != \"name\":\n",
    "            print(f\"Executing: {dic_procs[key]}\")\n",
    "            out = dic_procs[key](dic[key], vid_path, tmp_path)\n",
    "#             print(out)\n",
    "#             vid_path = str(out)\n",
    "    return tmp_path"
   ]
  },
  {
   "cell_type": "code",
   "execution_count": 1000,
   "id": "organic-classics",
   "metadata": {
    "execution": {
     "iopub.execute_input": "2021-06-10T10:01:45.571998Z",
     "iopub.status.busy": "2021-06-10T10:01:45.571701Z",
     "iopub.status.idle": "2021-06-10T10:01:45.576848Z",
     "shell.execute_reply": "2021-06-10T10:01:45.576212Z",
     "shell.execute_reply.started": "2021-06-10T10:01:45.571961Z"
    }
   },
   "outputs": [],
   "source": [
    "def concat_video(lis,fpath,merge_name):\n",
    "    f1,f2 = lis[0].name, lis[1].name\n",
    "    with open(fpath/\"tmp_vid_list.txt\",\"w+\") as f:\n",
    "        f.write(f\"file '{str(f1)}'\\nfile '{str(f2)}'\")\n",
    "    \n",
    "    ou1 = subprocess.getoutput(f\"yes|ffmpeg -f concat -safe 0 -i {fpath/'tmp_vid_list.txt'} -c copy {fpath/merge_name}\")\n",
    "    \n",
    "    return fpath/merge_name"
   ]
  },
  {
   "cell_type": "code",
   "execution_count": 1001,
   "id": "arabic-actress",
   "metadata": {
    "execution": {
     "iopub.execute_input": "2021-06-10T10:01:45.758380Z",
     "iopub.status.busy": "2021-06-10T10:01:45.757895Z",
     "iopub.status.idle": "2021-06-10T10:01:45.769324Z",
     "shell.execute_reply": "2021-06-10T10:01:45.767780Z",
     "shell.execute_reply.started": "2021-06-10T10:01:45.758322Z"
    }
   },
   "outputs": [],
   "source": [
    "def run_process(string, fpath, merge_name = \"final_output.mp4\"):\n",
    "    pi = preprocess_input(string)\n",
    "    try:\n",
    "        pm = preprocess_merges(string)\n",
    "    except IndexError:\n",
    "        pass\n",
    "    executed_vid_list = []\n",
    "    # run process for all files\n",
    "    for i,vid in tqdm(enumerate(pi)):\n",
    "        out = process_video(vid, fpath)\n",
    "#         print(out)\n",
    "        executed_vid_list.append(out)\n",
    "#     print(executed_vid_list)\n",
    "    lex = len(executed_vid_list)\n",
    "    if lex>=2:\n",
    "        if lex%2 == 0: assert len(pm)== (lex/2)\n",
    "        else: assert len(pm)== (lex%2+1)\n",
    "        concat_video(executed_vid_list, fpath, merge_name)\n",
    "    \n",
    "    "
   ]
  },
  {
   "cell_type": "code",
   "execution_count": 1002,
   "id": "specified-kinase",
   "metadata": {
    "execution": {
     "iopub.execute_input": "2021-06-10T10:01:45.907898Z",
     "iopub.status.busy": "2021-06-10T10:01:45.907698Z",
     "iopub.status.idle": "2021-06-10T10:01:45.910898Z",
     "shell.execute_reply": "2021-06-10T10:01:45.910300Z",
     "shell.execute_reply.started": "2021-06-10T10:01:45.907875Z"
    }
   },
   "outputs": [],
   "source": [
    "def remove_only_if_there(fpath): \n",
    "    if Path.exists(fpath): Path.unlink(fpath)"
   ]
  },
  {
   "cell_type": "code",
   "execution_count": 1003,
   "id": "persistent-chapel",
   "metadata": {
    "execution": {
     "iopub.execute_input": "2021-06-10T10:01:46.237965Z",
     "iopub.status.busy": "2021-06-10T10:01:46.237834Z",
     "iopub.status.idle": "2021-06-10T10:01:46.240731Z",
     "shell.execute_reply": "2021-06-10T10:01:46.240271Z",
     "shell.execute_reply.started": "2021-06-10T10:01:46.237951Z"
    }
   },
   "outputs": [],
   "source": [
    "def clean_up_fuly(fpath):\n",
    "    for i in [x for x in main_path.iterdir()]: \n",
    "        if \"tmp_\" in i.name:\n",
    "            remove_only_if_there(i)\n",
    "    remove_only_if_there(fpath/\"tmp_vid_list.txt\")\n",
    "    remove_only_if_there(fpath/\"final_output.mp4\")"
   ]
  },
  {
   "cell_type": "code",
   "execution_count": 1004,
   "id": "twelve-brisbane",
   "metadata": {
    "execution": {
     "iopub.execute_input": "2021-06-10T10:01:46.398663Z",
     "iopub.status.busy": "2021-06-10T10:01:46.398155Z",
     "iopub.status.idle": "2021-06-10T10:01:46.406481Z",
     "shell.execute_reply": "2021-06-10T10:01:46.404334Z",
     "shell.execute_reply.started": "2021-06-10T10:01:46.398602Z"
    }
   },
   "outputs": [],
   "source": [
    "def clean_up(fpath):\n",
    "    remove_only_if_there(fpath/\"tmp_vid_list.txt\")"
   ]
  },
  {
   "cell_type": "markdown",
   "id": "potential-shock",
   "metadata": {},
   "source": [
    "# Test"
   ]
  },
  {
   "cell_type": "code",
   "execution_count": 1005,
   "id": "artificial-identification",
   "metadata": {
    "execution": {
     "iopub.execute_input": "2021-06-10T10:01:46.692659Z",
     "iopub.status.busy": "2021-06-10T10:01:46.692151Z",
     "iopub.status.idle": "2021-06-10T10:01:46.702720Z",
     "shell.execute_reply": "2021-06-10T10:01:46.701052Z",
     "shell.execute_reply.started": "2021-06-10T10:01:46.692599Z"
    }
   },
   "outputs": [
    {
     "data": {
      "text/plain": [
       "PosixPath('testVideos')"
      ]
     },
     "execution_count": 1005,
     "metadata": {},
     "output_type": "execute_result"
    }
   ],
   "source": [
    "main_path = Path(\"./testVideos/\"); main_path"
   ]
  },
  {
   "cell_type": "code",
   "execution_count": 1006,
   "id": "incorporated-exposure",
   "metadata": {
    "execution": {
     "iopub.execute_input": "2021-06-10T10:01:47.075464Z",
     "iopub.status.busy": "2021-06-10T10:01:47.074951Z",
     "iopub.status.idle": "2021-06-10T10:01:47.082054Z",
     "shell.execute_reply": "2021-06-10T10:01:47.080073Z",
     "shell.execute_reply.started": "2021-06-10T10:01:47.075402Z"
    }
   },
   "outputs": [],
   "source": [
    "test_string = '''{\n",
    "name:venus.mp4,\n",
    "A:0,\n",
    "}+{\n",
    "name:grassTutorialNew.mp4,\n",
    "A:0,\n",
    "resize:128;128,\n",
    "}\n",
    "'''"
   ]
  },
  {
   "cell_type": "code",
   "execution_count": 994,
   "id": "detailed-emphasis",
   "metadata": {
    "execution": {
     "iopub.execute_input": "2021-06-10T10:00:54.750168Z",
     "iopub.status.busy": "2021-06-10T10:00:54.749667Z",
     "iopub.status.idle": "2021-06-10T10:00:54.756295Z",
     "shell.execute_reply": "2021-06-10T10:00:54.754624Z",
     "shell.execute_reply.started": "2021-06-10T10:00:54.750107Z"
    }
   },
   "outputs": [],
   "source": [
    "test_string = '''{\n",
    "name:movie.mp4,\n",
    "trim:00-01-00;00-15-10,\n",
    "A:0,\n",
    "speedV: 2,\n",
    "}\n",
    "'''"
   ]
  },
  {
   "cell_type": "code",
   "execution_count": 1007,
   "id": "prescribed-department",
   "metadata": {
    "execution": {
     "iopub.execute_input": "2021-06-10T10:01:48.495848Z",
     "iopub.status.busy": "2021-06-10T10:01:48.495650Z",
     "iopub.status.idle": "2021-06-10T10:01:48.500178Z",
     "shell.execute_reply": "2021-06-10T10:01:48.499666Z",
     "shell.execute_reply.started": "2021-06-10T10:01:48.495816Z"
    }
   },
   "outputs": [],
   "source": [
    "clean_up_fuly(main_path)\n",
    "# clean_up(main_path)"
   ]
  },
  {
   "cell_type": "code",
   "execution_count": 1008,
   "id": "chemical-navigator",
   "metadata": {
    "execution": {
     "iopub.execute_input": "2021-06-10T10:01:49.108499Z",
     "iopub.status.busy": "2021-06-10T10:01:49.107990Z",
     "iopub.status.idle": "2021-06-10T10:01:54.526396Z",
     "shell.execute_reply": "2021-06-10T10:01:54.525889Z",
     "shell.execute_reply.started": "2021-06-10T10:01:49.108438Z"
    }
   },
   "outputs": [
    {
     "name": "stderr",
     "output_type": "stream",
     "text": [
      "0it [00:00, ?it/s]"
     ]
    },
    {
     "name": "stdout",
     "output_type": "stream",
     "text": [
      "Executing: <function remove_audio at 0x7f77f7673ca0>\n",
      "not testVideos/venus.mp4 testVideos/tmp_venus.mp4\n",
      "Executing: <function remove_audio at 0x7f77f7673ca0>\n",
      "not testVideos/grassTutorialNew.mp4 testVideos/tmp_grassTutorialNew.mp4\n",
      "Executing: <function rescale_video at 0x7f77f77bb430>\n",
      "is testVideos/tmp_grassTutorialNew.mp4 testVideos/temp_tmp_grassTutorialNew.mp4\n"
     ]
    },
    {
     "name": "stderr",
     "output_type": "stream",
     "text": [
      "2it [00:05,  2.67s/it]\n"
     ]
    }
   ],
   "source": [
    "run_process(test_string, main_path, merge_name=\"final_output.mp4\")"
   ]
  },
  {
   "cell_type": "code",
   "execution_count": 940,
   "id": "offshore-credit",
   "metadata": {
    "execution": {
     "iopub.execute_input": "2021-06-10T09:41:56.992414Z",
     "iopub.status.busy": "2021-06-10T09:41:56.991871Z",
     "iopub.status.idle": "2021-06-10T09:41:56.999580Z",
     "shell.execute_reply": "2021-06-10T09:41:56.997368Z",
     "shell.execute_reply.started": "2021-06-10T09:41:56.992345Z"
    }
   },
   "outputs": [],
   "source": [
    "# trim did not work\n",
    "# try to concatenate outputs in the end\n",
    "# look for text? \\\n",
    "# filters etc"
   ]
  },
  {
   "cell_type": "code",
   "execution_count": null,
   "id": "blessed-archives",
   "metadata": {},
   "outputs": [],
   "source": []
  },
  {
   "cell_type": "code",
   "execution_count": null,
   "id": "disabled-donna",
   "metadata": {},
   "outputs": [],
   "source": []
  },
  {
   "cell_type": "code",
   "execution_count": null,
   "id": "attached-benefit",
   "metadata": {},
   "outputs": [],
   "source": []
  },
  {
   "cell_type": "code",
   "execution_count": null,
   "id": "beneficial-belarus",
   "metadata": {},
   "outputs": [],
   "source": []
  },
  {
   "cell_type": "code",
   "execution_count": null,
   "id": "formed-scope",
   "metadata": {},
   "outputs": [],
   "source": []
  },
  {
   "cell_type": "code",
   "execution_count": null,
   "id": "golden-consumer",
   "metadata": {},
   "outputs": [],
   "source": []
  },
  {
   "cell_type": "code",
   "execution_count": null,
   "id": "ecological-clearing",
   "metadata": {},
   "outputs": [],
   "source": []
  },
  {
   "cell_type": "code",
   "execution_count": null,
   "id": "still-efficiency",
   "metadata": {},
   "outputs": [],
   "source": []
  },
  {
   "cell_type": "code",
   "execution_count": null,
   "id": "chemical-malpractice",
   "metadata": {},
   "outputs": [],
   "source": []
  }
 ],
 "metadata": {
  "kernelspec": {
   "display_name": "Python 3",
   "language": "python",
   "name": "python3"
  },
  "language_info": {
   "codemirror_mode": {
    "name": "ipython",
    "version": 3
   },
   "file_extension": ".py",
   "mimetype": "text/x-python",
   "name": "python",
   "nbconvert_exporter": "python",
   "pygments_lexer": "ipython3",
   "version": "3.9.5"
  }
 },
 "nbformat": 4,
 "nbformat_minor": 5
}
